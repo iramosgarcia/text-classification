{
  "nbformat": 4,
  "nbformat_minor": 0,
  "metadata": {
    "accelerator": "TPU",
    "colab": {
      "name": "Task_3_Ignacio_Ramos.ipynb",
      "provenance": [],
      "collapsed_sections": [
        "A_twXJ5jdwRz"
      ]
    },
    "kernelspec": {
      "display_name": "Python 3",
      "language": "python",
      "name": "python3"
    },
    "language_info": {
      "codemirror_mode": {
        "name": "ipython",
        "version": 3
      },
      "file_extension": ".py",
      "mimetype": "text/x-python",
      "name": "python",
      "nbconvert_exporter": "python",
      "pygments_lexer": "ipython3",
      "version": "3.8.3"
    }
  },
  "cells": [
    {
      "cell_type": "markdown",
      "metadata": {
        "id": "PYxvZ9gYRTCX"
      },
      "source": [
        "Text Classification with Deep Learning\n",
        "\n",
        "Author: Ignacio Ramos Garcia\n"
      ]
    },
    {
      "cell_type": "markdown",
      "metadata": {
        "id": "_0pKP4aFQxEj"
      },
      "source": [
        "In this project news classification between true or fake will be carried out. Datasets are available in the following link:\n",
        "\n",
        "https://www.kaggle.com/clmentbisaillon/fake-and-real-news-dataset#True.csv"
      ]
    },
    {
      "cell_type": "markdown",
      "metadata": {
        "id": "mUoluQHUR9VB"
      },
      "source": [
        "## Imports"
      ]
    },
    {
      "cell_type": "code",
      "metadata": {
        "colab": {
          "base_uri": "https://localhost:8080/"
        },
        "id": "ZBA84TxfWnaB",
        "outputId": "fae7e33a-75f6-4db2-d766-a78dedb65342"
      },
      "source": [
        "import nltk\n",
        "nltk.download('stopwords')\n",
        "nltk.download('wordnet')"
      ],
      "execution_count": null,
      "outputs": [
        {
          "output_type": "stream",
          "text": [
            "[nltk_data] Downloading package stopwords to /root/nltk_data...\n",
            "[nltk_data]   Unzipping corpora/stopwords.zip.\n",
            "[nltk_data] Downloading package wordnet to /root/nltk_data...\n",
            "[nltk_data]   Unzipping corpora/wordnet.zip.\n"
          ],
          "name": "stdout"
        },
        {
          "output_type": "execute_result",
          "data": {
            "text/plain": [
              "True"
            ]
          },
          "metadata": {
            "tags": []
          },
          "execution_count": 2
        }
      ]
    },
    {
      "cell_type": "code",
      "metadata": {
        "id": "juRh368jR8zl"
      },
      "source": [
        "from google.colab import drive\n",
        "\n",
        "import csv\n",
        "import numpy as np\n",
        "import pandas as pd\n",
        "import seaborn as sns\n",
        "\n",
        "\n",
        "from pandas import read_csv\n",
        "from pylab import rcParams\n",
        "\n",
        "import tensorflow as tf\n",
        "from tensorflow.keras.preprocessing.text import Tokenizer\n",
        "from tensorflow.keras.preprocessing.sequence import pad_sequences\n",
        "\n",
        "from tensorflow.keras.models import Sequential\n",
        "from tensorflow.keras.layers import Input, Dense, GRU, LSTM, Embedding, Dropout, Bidirectional,\\\n",
        "SpatialDropout1D, Conv1D, MaxPooling1D, Flatten\n",
        "from tensorflow.keras import layers, initializers\n",
        "from tensorflow.keras.optimizers import SGD, Adam\n",
        "from tensorflow.keras import regularizers\n",
        "from keras.callbacks import ReduceLROnPlateau, EarlyStopping\n",
        "\n",
        "import re\n",
        "from sklearn.model_selection import train_test_split\n",
        "from sklearn.metrics import classification_report,confusion_matrix,accuracy_score\n",
        "from nltk.corpus import stopwords\n",
        "from nltk.tokenize import WordPunctTokenizer\n",
        "tok = WordPunctTokenizer()\n",
        "stop_words = set(stopwords.words('english'))\n",
        "from nltk.stem import WordNetLemmatizer\n",
        "\n",
        "from matplotlib import pyplot as plt\n",
        "\n",
        "%matplotlib inline\n",
        "\n"
      ],
      "execution_count": null,
      "outputs": []
    },
    {
      "cell_type": "markdown",
      "metadata": {
        "id": "KkHzKnBaRZ6n"
      },
      "source": [
        "## Load data and preprocessing"
      ]
    },
    {
      "cell_type": "code",
      "metadata": {
        "colab": {
          "base_uri": "https://localhost:8080/"
        },
        "id": "LpQCOAoDRbIb",
        "outputId": "674d8cae-9aba-4052-a321-e56e9fc5be9d"
      },
      "source": [
        "drive.mount('/content/gdrive')"
      ],
      "execution_count": null,
      "outputs": [
        {
          "output_type": "stream",
          "text": [
            "Mounted at /content/gdrive\n"
          ],
          "name": "stdout"
        }
      ]
    },
    {
      "cell_type": "code",
      "metadata": {
        "id": "Xf47JxYUd4fB"
      },
      "source": [
        "path_data = \"/content/gdrive/MyDrive/Master Big Data Science UNAV/8.Deep_learning/Tasks/Tasks/Data/\""
      ],
      "execution_count": null,
      "outputs": []
    },
    {
      "cell_type": "code",
      "metadata": {
        "id": "U6cTA6esR477"
      },
      "source": [
        "df_fake = read_csv(path_data + 'Fake.csv')\n",
        "df_true = read_csv(path_data + 'True.csv')"
      ],
      "execution_count": null,
      "outputs": []
    },
    {
      "cell_type": "code",
      "metadata": {
        "colab": {
          "base_uri": "https://localhost:8080/",
          "height": 289
        },
        "id": "drOv7gBxShk8",
        "outputId": "a335be90-4aba-4505-ffbd-3a9ca81a1685"
      },
      "source": [
        "# setting label as 0 for fake\n",
        "df_fake['target']=0\n",
        "\n",
        "# setting label 1 for true\n",
        "df_true['target']=1\n",
        "df_true.head()"
      ],
      "execution_count": null,
      "outputs": [
        {
          "output_type": "execute_result",
          "data": {
            "text/html": [
              "<div>\n",
              "<style scoped>\n",
              "    .dataframe tbody tr th:only-of-type {\n",
              "        vertical-align: middle;\n",
              "    }\n",
              "\n",
              "    .dataframe tbody tr th {\n",
              "        vertical-align: top;\n",
              "    }\n",
              "\n",
              "    .dataframe thead th {\n",
              "        text-align: right;\n",
              "    }\n",
              "</style>\n",
              "<table border=\"1\" class=\"dataframe\">\n",
              "  <thead>\n",
              "    <tr style=\"text-align: right;\">\n",
              "      <th></th>\n",
              "      <th>title</th>\n",
              "      <th>text</th>\n",
              "      <th>subject</th>\n",
              "      <th>date</th>\n",
              "      <th>target</th>\n",
              "    </tr>\n",
              "  </thead>\n",
              "  <tbody>\n",
              "    <tr>\n",
              "      <th>0</th>\n",
              "      <td>As U.S. budget fight looms, Republicans flip t...</td>\n",
              "      <td>WASHINGTON (Reuters) - The head of a conservat...</td>\n",
              "      <td>politicsNews</td>\n",
              "      <td>December 31, 2017</td>\n",
              "      <td>1</td>\n",
              "    </tr>\n",
              "    <tr>\n",
              "      <th>1</th>\n",
              "      <td>U.S. military to accept transgender recruits o...</td>\n",
              "      <td>WASHINGTON (Reuters) - Transgender people will...</td>\n",
              "      <td>politicsNews</td>\n",
              "      <td>December 29, 2017</td>\n",
              "      <td>1</td>\n",
              "    </tr>\n",
              "    <tr>\n",
              "      <th>2</th>\n",
              "      <td>Senior U.S. Republican senator: 'Let Mr. Muell...</td>\n",
              "      <td>WASHINGTON (Reuters) - The special counsel inv...</td>\n",
              "      <td>politicsNews</td>\n",
              "      <td>December 31, 2017</td>\n",
              "      <td>1</td>\n",
              "    </tr>\n",
              "    <tr>\n",
              "      <th>3</th>\n",
              "      <td>FBI Russia probe helped by Australian diplomat...</td>\n",
              "      <td>WASHINGTON (Reuters) - Trump campaign adviser ...</td>\n",
              "      <td>politicsNews</td>\n",
              "      <td>December 30, 2017</td>\n",
              "      <td>1</td>\n",
              "    </tr>\n",
              "    <tr>\n",
              "      <th>4</th>\n",
              "      <td>Trump wants Postal Service to charge 'much mor...</td>\n",
              "      <td>SEATTLE/WASHINGTON (Reuters) - President Donal...</td>\n",
              "      <td>politicsNews</td>\n",
              "      <td>December 29, 2017</td>\n",
              "      <td>1</td>\n",
              "    </tr>\n",
              "  </tbody>\n",
              "</table>\n",
              "</div>"
            ],
            "text/plain": [
              "                                               title  ... target\n",
              "0  As U.S. budget fight looms, Republicans flip t...  ...      1\n",
              "1  U.S. military to accept transgender recruits o...  ...      1\n",
              "2  Senior U.S. Republican senator: 'Let Mr. Muell...  ...      1\n",
              "3  FBI Russia probe helped by Australian diplomat...  ...      1\n",
              "4  Trump wants Postal Service to charge 'much mor...  ...      1\n",
              "\n",
              "[5 rows x 5 columns]"
            ]
          },
          "metadata": {
            "tags": []
          },
          "execution_count": 7
        }
      ]
    },
    {
      "cell_type": "code",
      "metadata": {
        "id": "sx7I2NKQSzgM"
      },
      "source": [
        "# merging both fake and true datasets\n",
        "df = pd.concat([df_fake,df_true])"
      ],
      "execution_count": null,
      "outputs": []
    },
    {
      "cell_type": "code",
      "metadata": {
        "colab": {
          "base_uri": "https://localhost:8080/",
          "height": 289
        },
        "id": "6WwfwR6kS7HT",
        "outputId": "466584ad-5938-40a9-c5db-63d06fbdadf5"
      },
      "source": [
        "# Mix fake and true rows\n",
        "df = df.sample(frac=1)\n",
        "\n",
        "df.head()"
      ],
      "execution_count": null,
      "outputs": [
        {
          "output_type": "execute_result",
          "data": {
            "text/html": [
              "<div>\n",
              "<style scoped>\n",
              "    .dataframe tbody tr th:only-of-type {\n",
              "        vertical-align: middle;\n",
              "    }\n",
              "\n",
              "    .dataframe tbody tr th {\n",
              "        vertical-align: top;\n",
              "    }\n",
              "\n",
              "    .dataframe thead th {\n",
              "        text-align: right;\n",
              "    }\n",
              "</style>\n",
              "<table border=\"1\" class=\"dataframe\">\n",
              "  <thead>\n",
              "    <tr style=\"text-align: right;\">\n",
              "      <th></th>\n",
              "      <th>title</th>\n",
              "      <th>text</th>\n",
              "      <th>subject</th>\n",
              "      <th>date</th>\n",
              "      <th>target</th>\n",
              "    </tr>\n",
              "  </thead>\n",
              "  <tbody>\n",
              "    <tr>\n",
              "      <th>2983</th>\n",
              "      <td>President Trump to attend Paris July 14 celebr...</td>\n",
              "      <td>PARIS (Reuters) - President Donald Trump will ...</td>\n",
              "      <td>politicsNews</td>\n",
              "      <td>June 28, 2017</td>\n",
              "      <td>1</td>\n",
              "    </tr>\n",
              "    <tr>\n",
              "      <th>15343</th>\n",
              "      <td>HILLARY CLINTON CRASHING IN POLLS: Moves To Ob...</td>\n",
              "      <td>So, the working people of America are basicall...</td>\n",
              "      <td>politics</td>\n",
              "      <td>Aug 10, 2015</td>\n",
              "      <td>0</td>\n",
              "    </tr>\n",
              "    <tr>\n",
              "      <th>7964</th>\n",
              "      <td>North Carolina Drug Tested Welfare Recipients...</td>\n",
              "      <td>Republicans must be shocked. And taxpayers sho...</td>\n",
              "      <td>News</td>\n",
              "      <td>February 20, 2016</td>\n",
              "      <td>0</td>\n",
              "    </tr>\n",
              "    <tr>\n",
              "      <th>4457</th>\n",
              "      <td>New Poll Shows 40 Percent Of Trump Supporters...</td>\n",
              "      <td>When Hillary Clinton called out  half  of Trum...</td>\n",
              "      <td>News</td>\n",
              "      <td>September 28, 2016</td>\n",
              "      <td>0</td>\n",
              "    </tr>\n",
              "    <tr>\n",
              "      <th>23434</th>\n",
              "      <td>The Final Control: TPP, TTIP, TISA Global Corp...</td>\n",
              "      <td>21st Century Wire says This is a new geopoliti...</td>\n",
              "      <td>Middle-east</td>\n",
              "      <td>February 27, 2016</td>\n",
              "      <td>0</td>\n",
              "    </tr>\n",
              "  </tbody>\n",
              "</table>\n",
              "</div>"
            ],
            "text/plain": [
              "                                                   title  ... target\n",
              "2983   President Trump to attend Paris July 14 celebr...  ...      1\n",
              "15343  HILLARY CLINTON CRASHING IN POLLS: Moves To Ob...  ...      0\n",
              "7964    North Carolina Drug Tested Welfare Recipients...  ...      0\n",
              "4457    New Poll Shows 40 Percent Of Trump Supporters...  ...      0\n",
              "23434  The Final Control: TPP, TTIP, TISA Global Corp...  ...      0\n",
              "\n",
              "[5 rows x 5 columns]"
            ]
          },
          "metadata": {
            "tags": []
          },
          "execution_count": 9
        }
      ]
    },
    {
      "cell_type": "code",
      "metadata": {
        "colab": {
          "base_uri": "https://localhost:8080/",
          "height": 279
        },
        "id": "N3T7VOAlTSap",
        "outputId": "fc2d5704-460f-4968-879b-570fe5168d8b"
      },
      "source": [
        "# Plot distribution of both targets\n",
        "df['target'].value_counts().plot.bar(color=['blue','red'])"
      ],
      "execution_count": null,
      "outputs": [
        {
          "output_type": "execute_result",
          "data": {
            "text/plain": [
              "<matplotlib.axes._subplots.AxesSubplot at 0x7f8cfa558810>"
            ]
          },
          "metadata": {
            "tags": []
          },
          "execution_count": 10
        },
        {
          "output_type": "display_data",
          "data": {
            "image/png": "[encoded data removed]",
            "text/plain": [
              "<Figure size 432x288 with 1 Axes>"
            ]
          },
          "metadata": {
            "tags": [],
            "needs_background": "light"
          }
        }
      ]
    },
    {
      "cell_type": "code",
      "metadata": {
        "id": "CK5dHTJ1USQU"
      },
      "source": [
        "df['original'] = df['text'] + ' ' + df['title']"
      ],
      "execution_count": null,
      "outputs": []
    },
    {
      "cell_type": "markdown",
      "metadata": {
        "id": "dtY0UcmuV6fa"
      },
      "source": [
        "### Cleaning Text"
      ]
    },
    {
      "cell_type": "code",
      "metadata": {
        "id": "WjNvyBPSTZbp"
      },
      "source": [
        "pat1 = r'http[^ ]+' # pattern to remove links\n",
        "pat2 = r'www.[^ ]+' # pattern to remove links\n",
        "pat3 = '[^a-zA-Z]+' # pattern to remove numbers\n",
        "pat = r'|'.join((pat1, pat2, pat3))\n",
        "\n",
        "def get_clean_text(text):\n",
        "    text = text.lower() # lowercase\n",
        "    text = re.sub(pat, ' ', text) # remove pat\n",
        "    text = [w for w in tok.tokenize(text) if not w in stop_words] # remove stop_words\n",
        "    text = [w for w in text if len(w)>1] # remove words with len <2\n",
        "    text = (' '.join(text)).strip() # list to string\n",
        "    return text"
      ],
      "execution_count": null,
      "outputs": []
    },
    {
      "cell_type": "code",
      "metadata": {
        "id": "Y_UsCspcT5M1"
      },
      "source": [
        "df['text_clean'] = [get_clean_text(t) for t in df['original']]"
      ],
      "execution_count": null,
      "outputs": []
    },
    {
      "cell_type": "markdown",
      "metadata": {
        "id": "qpWw0mE_V-BQ"
      },
      "source": [
        "### Lemmatization \n"
      ]
    },
    {
      "cell_type": "code",
      "metadata": {
        "id": "uXw_rM3TUzW5"
      },
      "source": [
        "lemmatizer = WordNetLemmatizer()\n",
        "def lemmatization(text):\n",
        "    lemmas = []\n",
        "    for word in text.split():\n",
        "        lemmas.append(lemmatizer.lemmatize(word))\n",
        "    return \" \".join(lemmas)"
      ],
      "execution_count": null,
      "outputs": []
    },
    {
      "cell_type": "code",
      "metadata": {
        "id": "H7fZoab-WbWS"
      },
      "source": [
        "df['text_clean'] = df['text_clean'].apply(lemmatization)"
      ],
      "execution_count": null,
      "outputs": []
    },
    {
      "cell_type": "markdown",
      "metadata": {
        "id": "l_tXKXTzXHy-"
      },
      "source": [
        "## Model"
      ]
    },
    {
      "cell_type": "markdown",
      "metadata": {
        "id": "E4OYTOq4X72P"
      },
      "source": [
        "### Hyperparameters"
      ]
    },
    {
      "cell_type": "code",
      "metadata": {
        "id": "9sbOojYcX-Q1"
      },
      "source": [
        "epochs = 10\n",
        "batch_size = 256\n",
        "vocab_size = 15000 # max tokens to be considered in vocabulary based on frequency\n",
        "embedding_dim = 50 # embedding dimension. This is the word vector representation size\n",
        "max_length = 300 # tokens expected per each text\n",
        "# num_convolution = 5\n",
        "trunc_type = 'post' # in case of exceeding \"max_length\", then truncate the sequence.\n",
        "padding_type = 'post' # in case of not fulfilling \"max_length\", then add zeroes in the the sequence.\n",
        "oov_tok = '<OOV>' # code for unseen tokens\n",
        "training_portion = .6\n",
        "training_portion = .8"
      ],
      "execution_count": null,
      "outputs": []
    },
    {
      "cell_type": "markdown",
      "metadata": {
        "id": "JPHm_PckXLEV"
      },
      "source": [
        "### Train-test split"
      ]
    },
    {
      "cell_type": "code",
      "metadata": {
        "colab": {
          "base_uri": "https://localhost:8080/"
        },
        "id": "22YfSmwsXOUO",
        "outputId": "1de50817-48bd-4ce6-d876-284d69078cd5"
      },
      "source": [
        "y = df['target']\n",
        "x = df['text_clean']\n",
        "\n",
        "label_distinct = len(set(y)) # this might be use as a dynamic parameter for the cost function layer (number of output neurons)\n",
        "print('Distinct categories in train set :' + str(label_distinct))\n",
        "\n",
        "x_train,x_test,y_train,y_test = train_test_split(df.text_clean,\n",
        "                                                 df.target,random_state = 0)\n",
        "\n",
        "print('x_train records :' + str(len(x_train)))\n",
        "print('y_train records :' + str(len(y_train)))\n",
        "print('x_test records :' + str(len(x_test)))\n",
        "print('y_test records :' + str(len(y_test)))"
      ],
      "execution_count": null,
      "outputs": [
        {
          "output_type": "stream",
          "text": [
            "Distinct categories in train set :2\n",
            "x_train records :33673\n",
            "y_train records :33673\n",
            "x_test records :11225\n",
            "y_test records :11225\n"
          ],
          "name": "stdout"
        }
      ]
    },
    {
      "cell_type": "code",
      "metadata": {
        "id": "1Fz43rudxtGN"
      },
      "source": [
        ""
      ],
      "execution_count": null,
      "outputs": []
    },
    {
      "cell_type": "markdown",
      "metadata": {
        "id": "FbLMt5l1Yyd_"
      },
      "source": [
        "### Tokenize"
      ]
    },
    {
      "cell_type": "code",
      "metadata": {
        "colab": {
          "base_uri": "https://localhost:8080/"
        },
        "id": "EOu7x8rrWiDo",
        "outputId": "9bf24014-f852-4b5a-a2b2-248f68f8e6fa"
      },
      "source": [
        "# As opposose to labels, Tokenizer for text has to be parametrized\n",
        "tokenizer = Tokenizer(num_words = vocab_size # max words to be considered\n",
        "                      , oov_token=oov_tok) #I want \"OOV\" in bracket to be used to for words that are not in the word index.\n",
        "tokenizer.fit_on_texts(x_train) # fit will return a dictionary\n",
        "word_index = tokenizer.word_index # save indexes for reverse transformation\n",
        "print('____________________________________________________________')\n",
        "print('This is an example for 5 tokens in the word_index :' + str(dict(list(word_index.items())[0:5])))"
      ],
      "execution_count": null,
      "outputs": [
        {
          "output_type": "stream",
          "text": [
            "____________________________________________________________\n",
            "This is an example for 5 tokens in the word_index :{'<OOV>': 1, 'trump': 2, 'said': 3, 'state': 4, 'president': 5}\n"
          ],
          "name": "stdout"
        }
      ]
    },
    {
      "cell_type": "code",
      "metadata": {
        "id": "sUe4dnoTYIpG"
      },
      "source": [
        "x_train_seq = tokenizer.texts_to_sequences(x_train)"
      ],
      "execution_count": null,
      "outputs": []
    },
    {
      "cell_type": "code",
      "metadata": {
        "id": "HHpGoeascmYd"
      },
      "source": [
        "x_test_seq = tokenizer.texts_to_sequences(x_test)"
      ],
      "execution_count": null,
      "outputs": []
    },
    {
      "cell_type": "markdown",
      "metadata": {
        "id": "MZ1UHPAzY9Xr"
      },
      "source": [
        "### Padding"
      ]
    },
    {
      "cell_type": "code",
      "metadata": {
        "id": "YyQ9Q6JMYvfx"
      },
      "source": [
        "x_train_pad = pad_sequences(x_train_seq, maxlen=max_length, padding=padding_type, truncating=trunc_type)\n",
        "x_test_pad = pad_sequences(x_test_seq, maxlen=max_length,padding=padding_type, truncating=trunc_type)"
      ],
      "execution_count": null,
      "outputs": []
    },
    {
      "cell_type": "markdown",
      "metadata": {
        "id": "JvaUqPOWydby"
      },
      "source": [
        "### Glove\n"
      ]
    },
    {
      "cell_type": "code",
      "metadata": {
        "id": "124ZvMAOyoK4"
      },
      "source": [
        "pre_trained_embedding = path_data +  \"glove.6B.50d.txt\""
      ],
      "execution_count": null,
      "outputs": []
    },
    {
      "cell_type": "code",
      "metadata": {
        "colab": {
          "base_uri": "https://localhost:8080/"
        },
        "id": "fmavKZ3fydqi",
        "outputId": "5c7731dc-bbb0-45a4-97a4-21863351796c"
      },
      "source": [
        "\n",
        "def get_coefs(word, *arr): \n",
        "    return word, np.asarray(arr, dtype='float32')\n",
        "embeddings_index = dict(get_coefs(*o.rstrip().rsplit(' ')) for o in open(pre_trained_embedding))\n",
        "\n",
        "all_embs = np.stack(embeddings_index.values())\n",
        "emb_mean,emb_std = all_embs.mean(), all_embs.std()\n",
        "embed_size = all_embs.shape[1]\n",
        "\n",
        "\n",
        "\n",
        "nb_words = min(vocab_size, len(word_index))\n",
        "#change below line if computing normal stats is too slow\n",
        "ebedding_matrix = embedding_matrix = np.random.normal(emb_mean, emb_std, (nb_words, embedding_dim))\n",
        "for word, i in word_index.items():\n",
        "    if i >= vocab_size: continue\n",
        "    embedding_vector = embeddings_index.get(word)\n",
        "    if embedding_vector is not None: \n",
        "      embedding_matrix[i] = embedding_vector"
      ],
      "execution_count": null,
      "outputs": [
        {
          "output_type": "stream",
          "text": [
            "/usr/local/lib/python3.7/dist-packages/IPython/core/interactiveshell.py:2822: FutureWarning: arrays to stack must be passed as a \"sequence\" type such as list or tuple. Support for non-sequence iterables such as generators is deprecated as of NumPy 1.16 and will raise an error in the future.\n",
            "  if self.run_code(code, result):\n"
          ],
          "name": "stderr"
        }
      ]
    },
    {
      "cell_type": "markdown",
      "metadata": {
        "id": "Uj80JSmVZ-Fn"
      },
      "source": [
        "### Model"
      ]
    },
    {
      "cell_type": "markdown",
      "metadata": {
        "id": "c0YRSacfaBcU"
      },
      "source": [
        "#### Callbacks"
      ]
    },
    {
      "cell_type": "code",
      "metadata": {
        "id": "07UWo3D5aD6e"
      },
      "source": [
        "reduce_lr = ReduceLROnPlateau(monitor='val_accuracy', patience = 2, verbose=1,factor=0.5, min_lr=0.00001)\n",
        "\n",
        "earlystop = EarlyStopping(monitor='val_loss', patience=2, verbose=1)\n",
        "\n",
        "callbacks_list = [earlystop,reduce_lr] \n"
      ],
      "execution_count": null,
      "outputs": []
    },
    {
      "cell_type": "markdown",
      "metadata": {
        "id": "OuNS86cEBTuf"
      },
      "source": [
        "#### Model implementation"
      ]
    },
    {
      "cell_type": "code",
      "metadata": {
        "colab": {
          "base_uri": "https://localhost:8080/"
        },
        "id": "MO_JtMqdzcxD",
        "outputId": "d88dccef-468a-456f-a27f-16eb38331bb9"
      },
      "source": [
        "#Defining Neural Network\n",
        "def make_model(  bidirectional_layers = 1\n",
        "               , bidirectional_dropout = 0.0\n",
        "               , dense_layers = 1\n",
        "               , dense_dropout = 0.0\n",
        "               , lr = 0.01\n",
        "               , output_bias = None\n",
        "                , verbose = 1):\n",
        "\n",
        "    model = Sequential()\n",
        "\n",
        "    model.add(Embedding(vocab_size, \n",
        "                        output_dim=embed_size, \n",
        "                        weights=[embedding_matrix], \n",
        "                        input_length=max_length, \n",
        "                        trainable=False))\n",
        "\n",
        "    model.add(LSTM(units=128 \n",
        "                  , return_sequences = True \n",
        "                  , recurrent_dropout = 0.25 \n",
        "                  , dropout = 0.25))\n",
        "    model.add(LSTM(units=64 \n",
        "                  , recurrent_dropout = 0.1 \n",
        "                  , dropout = 0.1))\n",
        "\n",
        "    model.add(Dense(units = 32 , activation = 'relu'))\n",
        "\n",
        "    # bias the cost function\n",
        "    if output_bias is not None:\n",
        "        output_bias = initializers.Constant(output_bias)\n",
        "    else:\n",
        "        output_bias = 'zeros' \n",
        "    model.add(Dense(1\n",
        "                    , activation='sigmoid'\n",
        "                    , bias_initializer = output_bias))\n",
        "    model.compile(loss = 'binary_crossentropy' # return prob dist\n",
        "                  , optimizer = Adam(lr) # classic classification optimizer\n",
        "                  , metrics = ['accuracy'])\n",
        "    model.compile(optimizer=Adam(lr=0.01)\n",
        "                  , loss='binary_crossentropy'\n",
        "                  , metrics=['accuracy'])\n",
        "\n",
        "    model.summary()"
      ],
      "execution_count": null,
      "outputs": [
        {
          "output_type": "stream",
          "text": [
            "Model: \"sequential_7\"\n",
            "_________________________________________________________________\n",
            "Layer (type)                 Output Shape              Param #   \n",
            "=================================================================\n",
            "embedding_6 (Embedding)      (None, 300, 50)           750000    \n",
            "_________________________________________________________________\n",
            "lstm_12 (LSTM)               (None, 300, 128)          91648     \n",
            "_________________________________________________________________\n",
            "lstm_13 (LSTM)               (None, 64)                49408     \n",
            "_________________________________________________________________\n",
            "dense_12 (Dense)             (None, 32)                2080      \n",
            "_________________________________________________________________\n",
            "dense_13 (Dense)             (None, 1)                 33        \n",
            "=================================================================\n",
            "Total params: 893,169\n",
            "Trainable params: 143,169\n",
            "Non-trainable params: 750,000\n",
            "_________________________________________________________________\n"
          ],
          "name": "stdout"
        }
      ]
    },
    {
      "cell_type": "code",
      "metadata": {
        "id": "g9REzvY3HtGu"
      },
      "source": [
        "len_word_index = len(word_index)\n",
        "def make_model(  bidirectional_layers = 1\n",
        "               , bidirectional_dropout = 0.0\n",
        "               , dense_layers = 1\n",
        "               , dense_dropout = 0.0\n",
        "               , lr = 1e-3\n",
        "               , output_bias = None\n",
        "               , verbose = 1):\n",
        "    \n",
        "    model = Sequential()\n",
        "    \n",
        "    model.add(Embedding(input_dim = len_word_index + 1 # the entering token j (j its a number) \n",
        "        #finds it´s word representation in the j row, where rows are \"len_word_index + 1\".\n",
        "                       , output_dim = embedding_dim # word representation dimension. Question\n",
        "                       , weights = [embedding_matrix] # pretrained embedding\n",
        "                       , input_length = max_length # Expected text size\n",
        "                       , trainable = False)) # Trainable = True when embedding elegigble to change\n",
        "    \n",
        "    for i in range(0,bidirectional_layers):\n",
        "        \n",
        "        # return_sequences -> last bidirectional doesnt return requences\n",
        "        return_sequences = ((bidirectional_layers - i) != 1)\n",
        "        model.add(Bidirectional(LSTM(embedding_dim\n",
        "                                 , activation = 'relu'\n",
        "                                 , dropout = bidirectional_dropout # regularization \n",
        "                                 , recurrent_dropout = bidirectional_dropout # regularization\n",
        "                                 , return_sequences = return_sequences))\n",
        "                  )\n",
        "\n",
        "    for i in range(0,dense_layers):\n",
        "        model.add(Dense(embedding_dim, activation='relu')) # dense layers\n",
        "        if dense_dropout != 0.0:\n",
        "            model.add(Dropout(dense_dropout)) # regularization\n",
        "            \n",
        "    # bias the cost function\n",
        "    if output_bias is not None:\n",
        "        output_bias = initializers.Constant(output_bias)\n",
        "    else:\n",
        "        output_bias = 'zeros'    \n",
        "    \n",
        "    model.add(Dense(1 \n",
        "                    , activation='softmax'\n",
        "                    , bias_initializer = output_bias))    \n",
        "\n",
        "    model.compile(loss = 'binary_crossentropy' # return prob dist\n",
        "                  , optimizer = Adam(lr) # classic classification optimizer\n",
        "                  , metrics = ['accuracy'])\n",
        "    if verbose:\n",
        "        \n",
        "        print('bidirectional_layers :' + str(bidirectional_layers))\n",
        "        print('bidirectional_dropout :' + str(bidirectional_dropout))\n",
        "        print('dense_layers :' + str(dense_layers))\n",
        "        print('dense_dropout :' + str(dense_dropout))\n",
        "        print('lr :' + str(lr))\n",
        "\n",
        "        print(model.summary())\n",
        "    \n",
        "    return model"
      ],
      "execution_count": null,
      "outputs": []
    },
    {
      "cell_type": "code",
      "metadata": {
        "colab": {
          "base_uri": "https://localhost:8080/"
        },
        "id": "CT4JgNHBH3Un",
        "outputId": "deb590c9-3127-42d2-fe19-bf1849021548"
      },
      "source": [
        "model_2 = make_model(bidirectional_layers = 2\n",
        "               , bidirectional_dropout = 0.2\n",
        "               , dense_layers = 1\n",
        "               , dense_dropout = 0.0\n",
        "               , lr = 0.01\n",
        "               , output_bias = None\n",
        "               , verbose = 1)\n",
        "\n"
      ],
      "execution_count": null,
      "outputs": [
        {
          "output_type": "stream",
          "text": [
            "bidirectional_layers :2\n",
            "bidirectional_dropout :0.2\n",
            "dense_layers :1\n",
            "dense_dropout :0.0\n",
            "lr :0.01\n",
            "Model: \"sequential_1\"\n",
            "_________________________________________________________________\n",
            "Layer (type)                 Output Shape              Param #   \n",
            "=================================================================\n",
            "embedding_1 (Embedding)      (None, 300, 50)           5004250   \n",
            "_________________________________________________________________\n",
            "bidirectional_2 (Bidirection (None, 300, 100)          40400     \n",
            "_________________________________________________________________\n",
            "bidirectional_3 (Bidirection (None, 100)               60400     \n",
            "_________________________________________________________________\n",
            "dense_2 (Dense)              (None, 50)                5050      \n",
            "_________________________________________________________________\n",
            "dense_3 (Dense)              (None, 1)                 51        \n",
            "=================================================================\n",
            "Total params: 5,110,151\n",
            "Trainable params: 105,901\n",
            "Non-trainable params: 5,004,250\n",
            "_________________________________________________________________\n",
            "None\n"
          ],
          "name": "stdout"
        }
      ]
    },
    {
      "cell_type": "markdown",
      "metadata": {
        "id": "DwyR9gnXB3Ei"
      },
      "source": [
        "#### Model training"
      ]
    },
    {
      "cell_type": "code",
      "metadata": {
        "colab": {
          "base_uri": "https://localhost:8080/"
        },
        "id": "0wk_iquuaOFw",
        "outputId": "5056194c-e571-4280-8423-87e60b30458e"
      },
      "source": [
        "history = model.fit(x_train_pad, y_train\n",
        "                    , epochs=epochs\n",
        "                    , batch_size = batch_size\n",
        "                    , validation_data=(x_test_pad, y_test)\n",
        "                    , callbacks = callbacks_list\n",
        "                    , verbose=1)"
      ],
      "execution_count": null,
      "outputs": [
        {
          "output_type": "stream",
          "text": [
            "Epoch 1/10\n",
            "132/132 [==============================] - 615s 5s/step - loss: 0.0077 - accuracy: 0.9980 - val_loss: 0.0082 - val_accuracy: 0.9987\n",
            "Epoch 2/10\n",
            "132/132 [==============================] - 652s 5s/step - loss: 0.0071 - accuracy: 0.9983 - val_loss: 0.0109 - val_accuracy: 0.9978\n",
            "Epoch 3/10\n",
            "132/132 [==============================] - 629s 5s/step - loss: 0.0061 - accuracy: 0.9988 - val_loss: 0.0074 - val_accuracy: 0.9987\n",
            "\n",
            "Epoch 00003: ReduceLROnPlateau reducing learning rate to 0.004999999888241291.\n",
            "Epoch 4/10\n",
            "132/132 [==============================] - 614s 5s/step - loss: 0.0039 - accuracy: 0.9990 - val_loss: 0.0069 - val_accuracy: 0.9988\n",
            "Epoch 5/10\n",
            "132/132 [==============================] - 622s 5s/step - loss: 0.0306 - accuracy: 0.9929 - val_loss: 0.0154 - val_accuracy: 0.9968\n",
            "Epoch 6/10\n",
            "132/132 [==============================] - 597s 5s/step - loss: 0.0109 - accuracy: 0.9977 - val_loss: 0.0100 - val_accuracy: 0.9980\n",
            "\n",
            "Epoch 00006: ReduceLROnPlateau reducing learning rate to 0.0024999999441206455.\n",
            "Epoch 7/10\n",
            "132/132 [==============================] - 598s 5s/step - loss: 0.0080 - accuracy: 0.9982 - val_loss: 0.0096 - val_accuracy: 0.9980\n",
            "Epoch 8/10\n",
            "132/132 [==============================] - 610s 5s/step - loss: 0.0070 - accuracy: 0.9985 - val_loss: 0.0098 - val_accuracy: 0.9980\n",
            "\n",
            "Epoch 00008: ReduceLROnPlateau reducing learning rate to 0.0012499999720603228.\n",
            "Epoch 9/10\n",
            "132/132 [==============================] - 596s 5s/step - loss: 0.0067 - accuracy: 0.9985 - val_loss: 0.0091 - val_accuracy: 0.9983\n",
            "Epoch 10/10\n",
            "132/132 [==============================] - 614s 5s/step - loss: 0.0053 - accuracy: 0.9987 - val_loss: 0.0090 - val_accuracy: 0.9982\n",
            "\n",
            "Epoch 00010: ReduceLROnPlateau reducing learning rate to 0.0006249999860301614.\n"
          ],
          "name": "stdout"
        }
      ]
    },
    {
      "cell_type": "code",
      "metadata": {
        "id": "TkO2upC9sB0Y"
      },
      "source": [
        "model.save(path_data + 'model_text_classification.h5')"
      ],
      "execution_count": null,
      "outputs": []
    },
    {
      "cell_type": "markdown",
      "metadata": {
        "id": "G3QyqtwaX1wI"
      },
      "source": [
        "#### Prediction with test data"
      ]
    },
    {
      "cell_type": "code",
      "metadata": {
        "colab": {
          "base_uri": "https://localhost:8080/"
        },
        "id": "8H0Lj0TMoJRu",
        "outputId": "df590e6f-caea-4dd2-9f49-6e08c4485ea5"
      },
      "source": [
        "pred = model.predict_classes(x_test_pad)"
      ],
      "execution_count": null,
      "outputs": [
        {
          "output_type": "stream",
          "text": [
            "/usr/local/lib/python3.7/dist-packages/tensorflow/python/keras/engine/sequential.py:450: UserWarning: `model.predict_classes()` is deprecated and will be removed after 2021-01-01. Please use instead:* `np.argmax(model.predict(x), axis=-1)`,   if your model does multi-class classification   (e.g. if it uses a `softmax` last-layer activation).* `(model.predict(x) > 0.5).astype(\"int32\")`,   if your model does binary classification   (e.g. if it uses a `sigmoid` last-layer activation).\n",
            "  warnings.warn('`model.predict_classes()` is deprecated and '\n"
          ],
          "name": "stderr"
        }
      ]
    },
    {
      "cell_type": "markdown",
      "metadata": {
        "id": "8wgA0FdOlcM7"
      },
      "source": [
        "## Results"
      ]
    },
    {
      "cell_type": "markdown",
      "metadata": {
        "id": "Cd5pul7Mq_ZJ"
      },
      "source": [
        "### Accuracy and Loss"
      ]
    },
    {
      "cell_type": "code",
      "metadata": {
        "colab": {
          "base_uri": "https://localhost:8080/"
        },
        "id": "UGgQADHpq-nz",
        "outputId": "6bdf733c-8ee9-4a4b-e4fe-4d0f1ecbe60d"
      },
      "source": [
        "history_dict = history.history\n",
        "\n",
        "acc = history_dict['accuracy']\n",
        "test_acc = history_dict['val_accuracy']\n",
        "loss = history_dict['loss']\n",
        "val_loss = history_dict['val_loss']\n",
        "\n",
        "print('Train accuracy : ' + str(acc[-1]))\n",
        "print('Test accuracy : ' + str(test_acc[-1]))"
      ],
      "execution_count": null,
      "outputs": [
        {
          "output_type": "stream",
          "text": [
            "Train accuracy : 0.998723030090332\n",
            "Test accuracy : 0.9982182383537292\n"
          ],
          "name": "stdout"
        }
      ]
    },
    {
      "cell_type": "code",
      "metadata": {
        "colab": {
          "base_uri": "https://localhost:8080/"
        },
        "id": "7JL8hjAZoevH",
        "outputId": "9b257a97-42a8-4ba1-cbe7-04f2ad282c09"
      },
      "source": [
        "pred = model.predict_classes(x_test_pad)"
      ],
      "execution_count": null,
      "outputs": [
        {
          "output_type": "stream",
          "text": [
            "/usr/local/lib/python3.7/dist-packages/tensorflow/python/keras/engine/sequential.py:450: UserWarning: `model.predict_classes()` is deprecated and will be removed after 2021-01-01. Please use instead:* `np.argmax(model.predict(x), axis=-1)`,   if your model does multi-class classification   (e.g. if it uses a `softmax` last-layer activation).* `(model.predict(x) > 0.5).astype(\"int32\")`,   if your model does binary classification   (e.g. if it uses a `sigmoid` last-layer activation).\n",
            "  warnings.warn('`model.predict_classes()` is deprecated and '\n"
          ],
          "name": "stderr"
        }
      ]
    },
    {
      "cell_type": "code",
      "metadata": {
        "colab": {
          "base_uri": "https://localhost:8080/",
          "height": 450
        },
        "id": "F4WTuyXeYaa7",
        "outputId": "bde07af6-11e8-463a-f8d1-fe6f4bec28b4"
      },
      "source": [
        "epochs = [i for i in range(10)]\n",
        "fig , ax = plt.subplots(1,2)\n",
        "train_acc = history.history['accuracy']\n",
        "train_loss = history.history['loss']\n",
        "val_acc = history.history['val_accuracy']\n",
        "val_loss = history.history['val_loss']\n",
        "fig.set_size_inches(20,10)\n",
        "\n",
        "ax[0].plot(epochs , train_acc , 'bo--' , label = 'Training Accuracy')\n",
        "ax[0].plot(epochs , val_acc , 'ro--' , label = 'Testing Accuracy')\n",
        "ax[0].set_title('Training & Testing Accuracy')\n",
        "ax[0].legend()\n",
        "ax[0].set_xlabel(\"Epochs\")\n",
        "ax[0].set_ylabel(\"Accuracy\")\n",
        "\n",
        "ax[1].plot(epochs , train_loss , 'bo--' , label = 'Training Loss')\n",
        "ax[1].plot(epochs , val_loss , 'ro--' , label = 'Testing Loss')\n",
        "ax[1].set_title('Training & Testing Loss')\n",
        "ax[1].legend()\n",
        "ax[1].set_xlabel(\"Epochs\")\n",
        "ax[1].set_ylabel(\"Loss\")\n",
        "plt.show()"
      ],
      "execution_count": null,
      "outputs": [
        {
          "output_type": "display_data",
          "data": {
            "image/png": "[encoded data removed]",
            "text/plain": [
              "<Figure size 1440x720 with 2 Axes>"
            ]
          },
          "metadata": {
            "tags": [],
            "needs_background": "light"
          }
        }
      ]
    },
    {
      "cell_type": "markdown",
      "metadata": {
        "id": "4_boo0L3qsQ6"
      },
      "source": [
        "### Confusion matrix"
      ]
    },
    {
      "cell_type": "code",
      "metadata": {
        "colab": {
          "base_uri": "https://localhost:8080/",
          "height": 623
        },
        "id": "53romqA6YhsR",
        "outputId": "fb1d84e5-3a89-475d-8ebd-8aeda83209d8"
      },
      "source": [
        "conf_matrix = confusion_matrix(y_test,pred)\n",
        "plt.figure(figsize = (10,10))\n",
        "sns.heatmap(conf_matrix,cmap= \"Blues\", linecolor = 'black' , linewidth = 1 , annot = True, fmt='' , xticklabels = ['Fake','Original'] , yticklabels = ['Fake','Original'])\n",
        "plt.xlabel(\"Predicted\")\n",
        "plt.ylabel(\"Actual\")"
      ],
      "execution_count": null,
      "outputs": [
        {
          "output_type": "execute_result",
          "data": {
            "text/plain": [
              "Text(69.0, 0.5, 'Actual')"
            ]
          },
          "metadata": {
            "tags": []
          },
          "execution_count": 86
        },
        {
          "output_type": "display_data",
          "data": {
            "image/png": "[encoded data removed]",
            "text/plain": [
              "<Figure size 720x720 with 2 Axes>"
            ]
          },
          "metadata": {
            "tags": [],
            "needs_background": "light"
          }
        }
      ]
    },
    {
      "cell_type": "code",
      "metadata": {
        "id": "NxzVuWZyYlO0"
      },
      "source": [
        ""
      ],
      "execution_count": null,
      "outputs": []
    }
  ]
}